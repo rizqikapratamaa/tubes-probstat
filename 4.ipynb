{
 "cells": [
  {
   "cell_type": "markdown",
   "metadata": {},
   "source": [
    "# Nomor 4"
   ]
  },
  {
   "cell_type": "code",
   "execution_count": 7,
   "metadata": {},
   "outputs": [],
   "source": [
    "import pandas as pd\n",
    "import numpy as np\n",
    "import matplotlib.pyplot as plt\n",
    "import seaborn as sns\n",
    "from scipy import stats\n",
    "from scipy.stats import shapiro"
   ]
  },
  {
   "cell_type": "code",
   "execution_count": 8,
   "metadata": {},
   "outputs": [],
   "source": [
    "df = pd.read_csv('banana.csv')\n",
    "df = df.drop(df.columns[0], axis=1) # ini ngapus id karna id dari pandas udah ada jadi biar ga dabel\n",
    "df = df.drop(df[df['Price'] == 0].index)\n",
    "df = df.drop(df[df['Price'] == -1].index)\n",
    "df = df.drop(df[df['Firmness'] == 2.0].index)\n",
    "df = df.drop(df[df['Country_of_Origin'] == 'undefined'].index)\n",
    "df_num = df.select_dtypes(include=['number'])\n",
    "df_str = df.select_dtypes(include=['object'])"
   ]
  },
  {
   "cell_type": "markdown",
   "metadata": {},
   "source": [
    "Salah satu ciri grafik histogram yang terdistribusi normal adalah memiliki bentuk yang sama dengan **Kurva Gauss**. Jika dilihat hasil visualisasi pada nomor sebelumnya, yang bentuknya mirip dengan Kurva Gauss adalah kolom `Acidity`, `Weight`, `Length`, `Appearance`, dan `Price`. Karena itu, dapat disimpulkan kelima kolom tersebut terdistribusi normal.  \n",
    "\n",
    "Sedangkan kolom `Tanin`, `Ripeness`, `Sweetness`, dan `Firmness` tidak terdistribusi normal karena bentuknya yang berbeda dari **Kurva Gauss**.  \n",
    "\n",
    "Dapat dilihat pada visualisasi kolom `Tanin`, terdapat puncak yang tidak berada ditengah serta beberapa puncak yang tidak tersebar merata di kiri dan kanannya.  \n",
    "\n",
    "Kemudian untuk kolom `Ripeness` dan `Sweetness`, kedua kolom itu memiliki jenis *Skewed Distribution*. Maksudnya adalah distribusi yang condong ke salah satu sisi. Seperti yang dapat dilihat, `Ripeness` lebih condong ke arah kiri atau *Positively Skewed* dan `Sweetness` lebih condnong ke arah kanan atau *Negatively Skewed*.  \n",
    "\n",
    "Terakhir untuk kolom `Firmness`, jenis distribusinya termasuk ke dalam distribusi *Uniform* karena setiap nilai memiliki kemungkinan yang hampir sama untuk muncul. Hal ini dapat dilihat dari histogram yang menunjukkan bahwa jumlah data hampir sama, dengan sedikit variasi yang terlihat.  \n",
    "\n",
    "Analisis ini kami validasi kembali dengan menggunakan `Shapiro-Wilk Test` dengan kode dibawah."
   ]
  },
  {
   "cell_type": "code",
   "execution_count": 9,
   "metadata": {},
   "outputs": [
    {
     "name": "stdout",
     "output_type": "stream",
     "text": [
      "Acidity is normally distributed according to Shapiro-Wilk Test\n",
      "Weight is normally distributed according to Shapiro-Wilk Test\n",
      "Length is normally distributed according to Shapiro-Wilk Test\n",
      "Appearance is normally distributed according to Shapiro-Wilk Test\n",
      "Tannin is NOT normally distributed according to Shapiro-Wilk Test\n",
      "Ripeness is NOT normally distributed according to Shapiro-Wilk Test\n",
      "Sweetness is NOT normally distributed according to Shapiro-Wilk Test\n",
      "Firmness is NOT normally distributed according to Shapiro-Wilk Test\n",
      "Price is normally distributed according to Shapiro-Wilk Test\n"
     ]
    }
   ],
   "source": [
    "for column in df_num.columns:\n",
    "  stat, p = shapiro(df_num[column])\n",
    "  alpha = 0.05\n",
    "  # print(\"nilai p nya\",p)\n",
    "  if p > alpha:\n",
    "    print(f'{column} is normally distributed according to Shapiro-Wilk Test')\n",
    "  else:\n",
    "    print(f'{column} is NOT normally distributed according to Shapiro-Wilk Test')"
   ]
  }
 ],
 "metadata": {
  "kernelspec": {
   "display_name": "Python 3",
   "language": "python",
   "name": "python3"
  },
  "language_info": {
   "codemirror_mode": {
    "name": "ipython",
    "version": 3
   },
   "file_extension": ".py",
   "mimetype": "text/x-python",
   "name": "python",
   "nbconvert_exporter": "python",
   "pygments_lexer": "ipython3",
   "version": "3.12.0"
  }
 },
 "nbformat": 4,
 "nbformat_minor": 2
}
